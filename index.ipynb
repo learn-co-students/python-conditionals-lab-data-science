{
 "cells": [
  {
   "cell_type": "markdown",
   "metadata": {},
   "source": [
    "# Conditionals in Python Lab"
   ]
  },
  {
   "cell_type": "markdown",
   "metadata": {},
   "source": [
    "## Introduction"
   ]
  },
  {
   "cell_type": "markdown",
   "metadata": {},
   "source": [
    "Alright, now that we have seen how to use condtionals, let's put them to use. We'll use some data from restaurants on yelp to decide where we want to eat and we'll use conditionals to help us do that."
   ]
  },
  {
   "cell_type": "markdown",
   "metadata": {},
   "source": [
    "## Objectives\n",
    "* Use conditionals to assert if an element passes a certain condition\n",
    "* Combine conditionals and loops to return a list of elements that pass a certain condition"
   ]
  },
  {
   "cell_type": "markdown",
   "metadata": {},
   "source": [
    "## Instructions"
   ]
  },
  {
   "cell_type": "markdown",
   "metadata": {},
   "source": [
    "Let's take a look at some data about restaurants we retrieved from Yelp. We will use these restaurants later with our conditional statemtents."
   ]
  },
  {
   "cell_type": "code",
   "execution_count": 2,
   "metadata": {},
   "outputs": [],
   "source": [
    "fork_fig = {\n",
    " 'display_phone': '(505) 881-5293',\n",
    " 'id': 'fork-and-fig-albuquerque',\n",
    " 'image_url': 'https://s3-media1.fl.yelpcdn.com/bphoto/_-DpXKfS3jv6DyA47g6Fxg/o.jpg',\n",
    " 'is_closed': False,\n",
    " 'name': 'Fork & Fig',\n",
    " 'phone': '+15058815293',\n",
    " 'price': '$$',\n",
    " 'rating': 4.5,\n",
    " 'review_count': 604,\n",
    "}\n",
    "\n",
    "frontier_restaurant = {\n",
    " 'display_phone': '(505) 266-0550',\n",
    " 'distance': 4033.6583235266075,\n",
    " 'id': 'frontier-restaurant-albuquerque-2',\n",
    " 'image_url': 'https://s3-media4.fl.yelpcdn.com/bphoto/M9L2z6-G0NobuDJ6YTh6VA/o.jpg',\n",
    " 'is_closed': True,\n",
    " 'name': 'Frontier Restaurant',\n",
    " 'phone': '+15052660550',\n",
    " 'price': '$',\n",
    " 'rating': 4.0,\n",
    " 'review_count': 1369,\n",
    "}"
   ]
  },
  {
   "cell_type": "markdown",
   "metadata": {},
   "source": [
    "Now that we are familiar with the data, we can get to the fun stuff. Let's create conditional statements that allow us to decide whether a restaurant has enough reviews for us to feel comfortable with its rating. This means that we want to make sure there is enough data points to decide if the rating is a statistically relevant deciding factor and not an outlier. We are data scientists, after all!"
   ]
  },
  {
   "cell_type": "code",
   "execution_count": 3,
   "metadata": {},
   "outputs": [
    {
     "name": "stdout",
     "output_type": "stream",
     "text": [
      "False True\n"
     ]
    }
   ],
   "source": [
    "fork_fig_rating_relevance = None\n",
    "frontier_restaurant_rating_relevance = None\n",
    "# write conditional statements here to assign a True or False value to each restaurant rating relevance variable\n",
    "# a rating is only relevant if there are over 750 reviews\n",
    "\n",
    "if fork_fig['review_count'] > 750:\n",
    "    fork_fig_rating_relevance = True\n",
    "else:\n",
    "    fork_fig_rating_relevance = False\n",
    "    \n",
    "if frontier_restaurant['review_count'] > 750:\n",
    "    frontier_restaurant_rating_relevance = True\n",
    "else:\n",
    "    frontier_restaurant_rating_relevance = False\n",
    "print(fork_fig_rating_relevance, frontier_restaurant_rating_relevance)"
   ]
  },
  {
   "cell_type": "markdown",
   "metadata": {},
   "source": [
    "## Using for loops with conditionals"
   ]
  },
  {
   "cell_type": "markdown",
   "metadata": {},
   "source": [
    "Let's write a for loop that iterates over a list of restaurants and returns the restaurant with the better rating. "
   ]
  },
  {
   "cell_type": "code",
   "execution_count": 5,
   "metadata": {},
   "outputs": [],
   "source": [
    "restuarnts = [fork_fig, frontier_restaurant]"
   ]
  },
  {
   "cell_type": "code",
   "execution_count": 6,
   "metadata": {},
   "outputs": [
    {
     "name": "stdout",
     "output_type": "stream",
     "text": [
      "{'display_phone': '(505) 881-5293', 'id': 'fork-and-fig-albuquerque', 'image_url': 'https://s3-media1.fl.yelpcdn.com/bphoto/_-DpXKfS3jv6DyA47g6Fxg/o.jpg', 'is_closed': False, 'name': 'Fork & Fig', 'phone': '+15058815293', 'price': '$$', 'rating': 4.5, 'review_count': 604}\n"
     ]
    }
   ],
   "source": [
    "highest_rated = None\n",
    "# write your for loop here using the list of restuarants above\n",
    "# assign highest_rated the restaurant with highest rating\n",
    "for rest in restuarnts:\n",
    "    if highest_rated and highest_rated['rating'] < rest['rating']:\n",
    "        highest_rated = rest\n",
    "    elif not highest_rated:\n",
    "        highest_rated = rest\n",
    "print(highest_rated)"
   ]
  },
  {
   "cell_type": "code",
   "execution_count": 7,
   "metadata": {},
   "outputs": [
    {
     "name": "stdout",
     "output_type": "stream",
     "text": [
      "Fork & Fig\n"
     ]
    }
   ],
   "source": [
    "print(highest_rated['name']) # 'Fork & Fig'"
   ]
  },
  {
   "cell_type": "markdown",
   "metadata": {},
   "source": [
    "Now do the same for the most reviewed restaurant and the cheapest restaurant."
   ]
  },
  {
   "cell_type": "code",
   "execution_count": 8,
   "metadata": {},
   "outputs": [
    {
     "name": "stdout",
     "output_type": "stream",
     "text": [
      "{'display_phone': '(505) 266-0550', 'distance': 4033.6583235266075, 'id': 'frontier-restaurant-albuquerque-2', 'image_url': 'https://s3-media4.fl.yelpcdn.com/bphoto/M9L2z6-G0NobuDJ6YTh6VA/o.jpg', 'is_closed': True, 'name': 'Frontier Restaurant', 'phone': '+15052660550', 'price': '$', 'rating': 4.0, 'review_count': 1369}\n"
     ]
    }
   ],
   "source": [
    "most_reviewed = None\n",
    "# write your for loop here using the list of restuarants above\n",
    "# assign most_reviewed the restaurant with highest number of reviews\n",
    "for rest in restuarnts:\n",
    "    if most_reviewed and most_reviewed['review_count'] < rest['review_count']:\n",
    "        most_reviewed = rest\n",
    "    elif not most_reviewed:\n",
    "        most_reviewed = rest\n",
    "print(most_reviewed)"
   ]
  },
  {
   "cell_type": "code",
   "execution_count": 10,
   "metadata": {},
   "outputs": [
    {
     "name": "stdout",
     "output_type": "stream",
     "text": [
      "{'display_phone': '(505) 266-0550', 'distance': 4033.6583235266075, 'id': 'frontier-restaurant-albuquerque-2', 'image_url': 'https://s3-media4.fl.yelpcdn.com/bphoto/M9L2z6-G0NobuDJ6YTh6VA/o.jpg', 'is_closed': True, 'name': 'Frontier Restaurant', 'phone': '+15052660550', 'price': '$', 'rating': 4.0, 'review_count': 1369}\n"
     ]
    }
   ],
   "source": [
    "cheapest_restaurant = None\n",
    "# write your for loop here using the list of restuarants above\n",
    "# assign cheapest_restaurant the restaurant with the fewest dollar signs\n",
    "for rest in restuarnts:\n",
    "    if cheapest_restaurant and len(cheapest_restaurant['price']) > len(rest['price']):\n",
    "        cheapest_restaurant = rest\n",
    "    elif not cheapest_restaurant:\n",
    "        cheapest_restaurant = rest\n",
    "print(cheapest_restaurant)"
   ]
  },
  {
   "cell_type": "markdown",
   "metadata": {},
   "source": [
    "Next, use a for loop to return a list of restaurants that are currently open. "
   ]
  },
  {
   "cell_type": "code",
   "execution_count": 14,
   "metadata": {},
   "outputs": [
    {
     "data": {
      "text/plain": [
       "False"
      ]
     },
     "execution_count": 14,
     "metadata": {},
     "output_type": "execute_result"
    }
   ],
   "source": [
    "fork_fig['is_closed'] # False"
   ]
  },
  {
   "cell_type": "code",
   "execution_count": 15,
   "metadata": {},
   "outputs": [
    {
     "data": {
      "text/plain": [
       "True"
      ]
     },
     "execution_count": 15,

     "metadata": {},
     "output_type": "execute_result"
    }
   ],
   "source": [
    "frontier_restaurant['is_closed'] # True"
   ]
  },
  {
   "cell_type": "code",
   "execution_count": 13,
   "metadata": {},
   "outputs": [
    {
     "name": "stdout",
     "output_type": "stream",
     "text": [
      "[{'display_phone': '(505) 881-5293', 'id': 'fork-and-fig-albuquerque', 'image_url': 'https://s3-media1.fl.yelpcdn.com/bphoto/_-DpXKfS3jv6DyA47g6Fxg/o.jpg', 'is_closed': False, 'name': 'Fork & Fig', 'phone': '+15058815293', 'price': '$$', 'rating': 4.5, 'review_count': 604}]\n"
     ]

    }
   ],
   "source": [
    "open_restaurants = []\n",
    "# write a for loop and conditional statements to choose only the open restaurants from the list of restaurants\n",
    "# append the open restaurants to the list open_restaurants\n",
    "for rest in restuarnts:\n",
    "    if not rest['is_closed']:\n",
    "        open_restaurants.append(rest)\n",
    "        \n",
    "print(open_restaurants)"
   ]
  },
  {
   "cell_type": "markdown",
   "metadata": {},
   "source": [
    "### Summary"
   ]
  },
  {
   "cell_type": "markdown",
   "metadata": {},
   "source": [
    "Great! In this lab we saw how to use for loops and conditions to return the restaurant(s) we want based on the questions we are trying to answer (i.e. which is highest rated, most reviewed, or open). We will continue to use conditional statements to create more dynamic and efficient code as we learn more and more about Python and programming."
   ]
  }
 ],
 "metadata": {
  "kernelspec": {
   "display_name": "Python 3",
   "language": "python",
   "name": "python3"
  },
  "language_info": {
   "codemirror_mode": {
    "name": "ipython",
    "version": 3
   },
   "file_extension": ".py",
   "mimetype": "text/x-python",
   "name": "python",
   "nbconvert_exporter": "python",
   "pygments_lexer": "ipython3",
   "version": "3.6.5"
  }
 },
 "nbformat": 4,
 "nbformat_minor": 2
}
